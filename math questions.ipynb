{
 "cells": [
  {
   "cell_type": "markdown",
   "metadata": {},
   "source": [
    "# Task 1"
   ]
  },
  {
   "cell_type": "code",
   "execution_count": 1,
   "metadata": {},
   "outputs": [],
   "source": [
    "%matplotlib inline\n",
    "import sympy as sym\n",
    "import matplotlib.pyplot as plt\n",
    "import numpy as np"
   ]
  },
  {
   "cell_type": "markdown",
   "metadata": {},
   "source": [
    "Set up the data points:"
   ]
  },
  {
   "cell_type": "code",
   "execution_count": 2,
   "metadata": {},
   "outputs": [],
   "source": [
    "xxT1 = [3, 5, 7, 9, 11]\n",
    "yyT1 = [720, 410, 230, 190, 130]"
   ]
  },
  {
   "cell_type": "markdown",
   "metadata": {},
   "source": [
    "Lagrange interpolating polynomial (using Sympy)."
   ]
  },
  {
   "cell_type": "code",
   "execution_count": 3,
   "metadata": {},
   "outputs": [
    {
     "data": {
      "text/latex": [
       "$\\displaystyle \\frac{15 \\left(x - 11\\right) \\left(x - 9\\right) \\left(x - 7\\right) \\left(x - 5\\right)}{8} - \\frac{205 \\left(x - 11\\right) \\left(x - 9\\right) \\left(x - 7\\right) \\left(x - 3\\right)}{48} + \\frac{115 \\left(x - 11\\right) \\left(x - 9\\right) \\left(x - 5\\right) \\left(x - 3\\right)}{32} - \\frac{95 \\left(x - 11\\right) \\left(x - 7\\right) \\left(x - 5\\right) \\left(x - 3\\right)}{48} + \\frac{65 \\left(x - 9\\right) \\left(x - 7\\right) \\left(x - 5\\right) \\left(x - 3\\right)}{192}$"
      ],
      "text/plain": [
       "15*(x - 11)*(x - 9)*(x - 7)*(x - 5)/8 - 205*(x - 11)*(x - 9)*(x - 7)*(x - 3)/48 + 115*(x - 11)*(x - 9)*(x - 5)*(x - 3)/32 - 95*(x - 11)*(x - 7)*(x - 5)*(x - 3)/48 + 65*(x - 9)*(x - 7)*(x - 5)*(x - 3)/192"
      ]
     },
     "execution_count": 3,
     "metadata": {},
     "output_type": "execute_result"
    }
   ],
   "source": [
    "x = sym.symbols(\"x\")\n",
    "lagrange_poly = sym.polys.specialpolys.interpolating_poly(len(xxT1), x, xxT1, yyT1)\n",
    "lagrange_poly"
   ]
  },
  {
   "cell_type": "code",
   "execution_count": 4,
   "metadata": {},
   "outputs": [
    {
     "data": {
      "text/latex": [
       "$\\displaystyle - \\frac{85 x^{4}}{192} + \\frac{65 x^{3}}{6} - \\frac{7495 x^{2}}{96} + \\frac{355 x}{6} + \\frac{63265}{64}$"
      ],
      "text/plain": [
       "-85*x**4/192 + 65*x**3/6 - 7495*x**2/96 + 355*x/6 + 63265/64"
      ]
     },
     "execution_count": 4,
     "metadata": {},
     "output_type": "execute_result"
    }
   ],
   "source": [
    "ptask1 = sym.simplify(lagrange_poly)\n",
    "ptask1"
   ]
  },
  {
   "cell_type": "markdown",
   "metadata": {},
   "source": [
    "Plot of Lagrange polynomial."
   ]
  },
  {
   "cell_type": "markdown",
   "metadata": {},
   "source": [
    "# Task 2"
   ]
  },
  {
   "cell_type": "code",
   "execution_count": 5,
   "metadata": {},
   "outputs": [],
   "source": [
    "from __future__ import print_function\n",
    "import numpy as np\n",
    "import matplotlib.pyplot as plt\n",
    "import math\n",
    "from scipy import linalg\n",
    "from scipy import interpolate"
   ]
  },
  {
   "cell_type": "markdown",
   "metadata": {},
   "source": [
    "Set up the data points.  This is the only thing that can be varied."
   ]
  },
  {
   "cell_type": "code",
   "execution_count": 6,
   "metadata": {},
   "outputs": [],
   "source": [
    "xxT2=np.array([2,4,8,12,20])\n",
    "yyT2=np.array([560,420,235,125,70])"
   ]
  },
  {
   "cell_type": "markdown",
   "metadata": {},
   "source": [
    "Get all the h values"
   ]
  },
  {
   "cell_type": "code",
   "execution_count": 10,
   "metadata": {},
   "outputs": [
    {
     "data": {
      "text/plain": [
       "array([2., 4., 4., 8.])"
      ]
     },
     "execution_count": 10,
     "metadata": {},
     "output_type": "execute_result"
    }
   ],
   "source": [
    "n = len(xxT2)-1\n",
    "xmin, xmax = xxT2[0], xxT2[n]\n",
    "dx = np.zeros(n)\n",
    "dx[0:n] = xxT2[1:n+1]-xxT2[0:n]\n",
    "dx"
   ]
  },
  {
   "cell_type": "markdown",
   "metadata": {},
   "source": [
    "Set up the right hand side of the tridiagonal system:"
   ]
  },
  {
   "cell_type": "code",
   "execution_count": 11,
   "metadata": {},
   "outputs": [],
   "source": [
    "B=np.zeros(n+1)"
   ]
  },
  {
   "cell_type": "code",
   "execution_count": 13,
   "metadata": {},
   "outputs": [],
   "source": [
    "B[1:n]=(3.0/dx[1:n])*(yyT2[2:n+1]-yyT2[1:n])-(3/dx[0:n-1])*(yyT2[1:n]-yyT2[0:n-1])"
   ]
  },
  {
   "cell_type": "code",
   "execution_count": 14,
   "metadata": {},
   "outputs": [
    {
     "data": {
      "text/plain": [
       "array([ 0.   , 71.25 , 56.25 , 61.875,  0.   ])"
      ]
     },
     "execution_count": 14,
     "metadata": {},
     "output_type": "execute_result"
    }
   ],
   "source": [
    "B"
   ]
  },
  {
   "cell_type": "markdown",
   "metadata": {},
   "source": [
    "Set up the tridiagonal matrix of the system"
   ]
  },
  {
   "cell_type": "code",
   "execution_count": 15,
   "metadata": {},
   "outputs": [
    {
     "name": "stdout",
     "output_type": "stream",
     "text": [
      "[2.0, 12.0, 4.0]\n",
      "[4.0, 16.0, 4.0]\n",
      "[4.0, 24.0, 8.0]\n"
     ]
    },
    {
     "data": {
      "text/plain": [
       "array([[ 1.,  0.,  0.,  0.,  0.],\n",
       "       [ 2., 12.,  4.,  0.,  0.],\n",
       "       [ 0.,  4., 16.,  4.,  0.],\n",
       "       [ 0.,  0.,  4., 24.,  8.],\n",
       "       [ 0.,  0.,  0.,  0.,  1.]])"
      ]
     },
     "execution_count": 15,
     "metadata": {},
     "output_type": "execute_result"
    }
   ],
   "source": [
    "A = np.empty([n+1,n+1])\n",
    "zeros = np.zeros(n+1)\n",
    "line1 = np.zeros(n+1)\n",
    "line1[0] = 1\n",
    "linelast = np.zeros(n+1)\n",
    "linelast[n] = 1\n",
    "A[0], A[n] = line1, linelast\n",
    "for aaa in range(n-1):\n",
    "    A[aaa+1] = zeros\n",
    "    Ainput = []\n",
    "    Ainput = [dx[aaa], 2*(dx[aaa]+dx[aaa+1]), dx[aaa+1]]\n",
    "    print(Ainput)\n",
    "    A[aaa+1][aaa:aaa+3] = Ainput[0:3]\n",
    "A"
   ]
  },
  {
   "cell_type": "markdown",
   "metadata": {},
   "source": [
    "Solve the linear system and insert the boundary conditions to obtain all the c coefficients in the cubic spline equations:"
   ]
  },
  {
   "cell_type": "code",
   "execution_count": 16,
   "metadata": {},
   "outputs": [
    {
     "data": {
      "text/plain": [
       "array([0.        , 5.40922619, 1.58482143, 2.3139881 , 0.        ])"
      ]
     },
     "execution_count": 16,
     "metadata": {},
     "output_type": "execute_result"
    }
   ],
   "source": [
    "c=linalg.solve(A,B)\n",
    "c"
   ]
  },
  {
   "cell_type": "markdown",
   "metadata": {},
   "source": [
    "Obtain the cubic spline coefficients b and d by solving equations (3.17) and (3.20) from the PDF:"
   ]
  },
  {
   "cell_type": "code",
   "execution_count": 17,
   "metadata": {},
   "outputs": [
    {
     "data": {
      "text/plain": [
       "([], [])"
      ]
     },
     "execution_count": 17,
     "metadata": {},
     "output_type": "execute_result"
    }
   ],
   "source": [
    "b=[]\n",
    "d=[]\n",
    "b,d"
   ]
  },
  {
   "cell_type": "code",
   "execution_count": 18,
   "metadata": {},
   "outputs": [
    {
     "data": {
      "text/plain": [
       "[-73.6061507936508, -62.78769841269841, -34.81150793650794, -19.21626984126984]"
      ]
     },
     "execution_count": 18,
     "metadata": {},
     "output_type": "execute_result"
    }
   ],
   "source": [
    "b[0:n] = (1/dx[0:n])*(yyT2[1:n+1]-yyT2[0:n])-(dx[0:n]/3)*(2*(c[0:n])+c[1:n+1])\n",
    "b"
   ]
  },
  {
   "cell_type": "code",
   "execution_count": 19,
   "metadata": {},
   "outputs": [
    {
     "data": {
      "text/plain": [
       "[0.9015376984126983,\n",
       " -0.31870039682539675,\n",
       " 0.06076388888888884,\n",
       " -0.09641617063492061]"
      ]
     },
     "execution_count": 19,
     "metadata": {},
     "output_type": "execute_result"
    }
   ],
   "source": [
    "d[0:n]=(1/(3*dx))*(c[1:n+1]-c[0:n])\n",
    "d\n",
    "#    Doesn't Change"
   ]
  },
  {
   "cell_type": "markdown",
   "metadata": {},
   "source": [
    "Plot the spline equations:"
   ]
  },
  {
   "cell_type": "code",
   "execution_count": 20,
   "metadata": {},
   "outputs": [],
   "source": [
    "import numpy as np\n",
    "import sympy as sp\n",
    "import math\n",
    "import matplotlib.pyplot as plt\n"
   ]
  },
  {
   "cell_type": "code",
   "execution_count": 21,
   "metadata": {},
   "outputs": [],
   "source": [
    "from sympy import Symbol\n",
    "from sympy import integrate\n",
    "from sympy import *\n",
    "from scipy.integrate import quad\n",
    "from fractions import Fraction"
   ]
  },
  {
   "cell_type": "code",
   "execution_count": 22,
   "metadata": {},
   "outputs": [
    {
     "data": {
      "text/latex": [
       "$\\displaystyle \\frac{\\left(x^{0.4} + 2\\right) e^{- x^{0.4}}}{x^{1.66666666666667}} = x$"
      ],
      "text/plain": [
       "Eq(x**(-1.66666666666667)*(x**0.4 + 2)*exp(-x**0.4), x)"
      ]
     },
     "execution_count": 22,
     "metadata": {},
     "output_type": "execute_result"
    }
   ],
   "source": [
    "x = Symbol(\"x\")\n",
    "expr = sp.Eq(exp(-x**(2/5))* (x**(2/5) + 2)/x**(5/3), x)\n",
    "expr"
   ]
  },
  {
   "cell_type": "code",
   "execution_count": 23,
   "metadata": {},
   "outputs": [
    {
     "data": {
      "text/latex": [
       "$\\displaystyle 1.0 x^{1.0} e^{- x^{1.0}} + 1.0 e^{- x^{1.0}}$"
      ],
      "text/plain": [
       "1.0*x**1.0*exp(-x**1.0) + 1.0*exp(-x**1.0)"
      ]
     },
     "execution_count": 23,
     "metadata": {},
     "output_type": "execute_result"
    }
   ],
   "source": [
    "integrate(-x*exp(-x**(2/2)), x)"
   ]
  },
  {
   "cell_type": "code",
   "execution_count": 24,
   "metadata": {},
   "outputs": [
    {
     "data": {
      "text/plain": [
       "(-5.0*uppergamma(-1.66666666666667, x**0.4) - 2.5*uppergamma(-0.666666666666667, x**0.4),\n",
       " x)"
      ]
     },
     "execution_count": 24,
     "metadata": {},
     "output_type": "execute_result"
    }
   ],
   "source": [
    "integrate(exp(-x**(2/5))* (x**(2/5) + 2)/x**(5/3)), x"
   ]
  },
  {
   "cell_type": "code",
   "execution_count": 25,
   "metadata": {},
   "outputs": [
    {
     "name": "stdout",
     "output_type": "stream",
     "text": [
      "(1444.5451228927134, 7.114373390701587e-10)\n"
     ]
    }
   ],
   "source": [
    "import scipy.integrate\n",
    "from numpy import exp\n",
    "f= lambda x:exp(x**2)\n",
    "i = scipy.integrate.quad(f, 0, 3)\n",
    "print (i)"
   ]
  },
  {
   "cell_type": "code",
   "execution_count": 26,
   "metadata": {},
   "outputs": [],
   "source": [
    "from __future__ import print_function\n",
    "import numpy as np\n",
    "import sympy as sp\n",
    "import matplotlib.pyplot as plt\n",
    "import math\n",
    "from scipy import linalg\n",
    "from scipy import interpolate"
   ]
  },
  {
   "cell_type": "code",
   "execution_count": 27,
   "metadata": {},
   "outputs": [],
   "source": [
    "x = sp.Symbol(\"x\")"
   ]
  },
  {
   "cell_type": "code",
   "execution_count": 41,
   "metadata": {},
   "outputs": [
    {
     "ename": "AttributeError",
     "evalue": "'function' object has no attribute 'quad'",
     "output_type": "error",
     "traceback": [
      "\u001b[1;31m---------------------------------------------------------------------------\u001b[0m",
      "\u001b[1;31mAttributeError\u001b[0m                            Traceback (most recent call last)",
      "\u001b[1;32m<ipython-input-41-f16562804aab>\u001b[0m in \u001b[0;36m<module>\u001b[1;34m\u001b[0m\n\u001b[0;32m     13\u001b[0m \u001b[1;32mfor\u001b[0m \u001b[0mii\u001b[0m\u001b[1;33m,\u001b[0m \u001b[0mitem\u001b[0m \u001b[1;32min\u001b[0m \u001b[0menumerate\u001b[0m\u001b[1;33m(\u001b[0m\u001b[0mxxT4\u001b[0m\u001b[1;33m)\u001b[0m\u001b[1;33m:\u001b[0m\u001b[1;33m\u001b[0m\u001b[1;33m\u001b[0m\u001b[0m\n\u001b[0;32m     14\u001b[0m     \u001b[0mfx\u001b[0m \u001b[1;33m=\u001b[0m  \u001b[1;32mlambda\u001b[0m \u001b[0mxT4\u001b[0m\u001b[1;33m:\u001b[0m \u001b[1;33m(\u001b[0m\u001b[0mnp\u001b[0m\u001b[1;33m.\u001b[0m\u001b[0mexp\u001b[0m\u001b[1;33m(\u001b[0m\u001b[1;33m-\u001b[0m\u001b[0mxT4\u001b[0m\u001b[1;33m**\u001b[0m\u001b[1;33m(\u001b[0m\u001b[1;36m2\u001b[0m\u001b[1;33m/\u001b[0m\u001b[1;36m5\u001b[0m\u001b[1;33m)\u001b[0m\u001b[1;33m)\u001b[0m\u001b[1;33m*\u001b[0m \u001b[1;33m(\u001b[0m\u001b[0mxT4\u001b[0m\u001b[1;33m**\u001b[0m\u001b[1;33m(\u001b[0m\u001b[1;36m2\u001b[0m\u001b[1;33m/\u001b[0m\u001b[1;36m5\u001b[0m\u001b[1;33m)\u001b[0m \u001b[1;33m+\u001b[0m \u001b[1;36m2\u001b[0m\u001b[1;33m)\u001b[0m\u001b[1;33m/\u001b[0m\u001b[0mxT4\u001b[0m\u001b[1;33m**\u001b[0m\u001b[1;33m(\u001b[0m\u001b[1;36m5\u001b[0m\u001b[1;33m/\u001b[0m\u001b[1;36m3\u001b[0m\u001b[1;33m)\u001b[0m\u001b[1;33m)\u001b[0m\u001b[1;33m\u001b[0m\u001b[1;33m\u001b[0m\u001b[0m\n\u001b[1;32m---> 15\u001b[1;33m     \u001b[0mint\u001b[0m \u001b[1;33m=\u001b[0m \u001b[0mintegrate\u001b[0m\u001b[1;33m.\u001b[0m\u001b[0mquad\u001b[0m\u001b[1;33m(\u001b[0m\u001b[0mfx\u001b[0m\u001b[1;33m,\u001b[0m \u001b[1;36m2\u001b[0m\u001b[1;33m,\u001b[0m \u001b[0mxxT4\u001b[0m\u001b[1;33m[\u001b[0m\u001b[0mii\u001b[0m\u001b[1;33m]\u001b[0m\u001b[1;33m)\u001b[0m\u001b[1;33m\u001b[0m\u001b[1;33m\u001b[0m\u001b[0m\n\u001b[0m\u001b[0;32m     16\u001b[0m     \u001b[0mI\u001b[0m\u001b[1;33m[\u001b[0m\u001b[0mii\u001b[0m\u001b[1;33m]\u001b[0m\u001b[1;33m=\u001b[0m\u001b[1;36m800\u001b[0m\u001b[1;33m-\u001b[0m\u001b[1;33m(\u001b[0m\u001b[1;36m600\u001b[0m\u001b[1;33m*\u001b[0m\u001b[0mint\u001b[0m\u001b[1;33m[\u001b[0m\u001b[1;36m0\u001b[0m\u001b[1;33m]\u001b[0m\u001b[1;33m)\u001b[0m\u001b[1;33m\u001b[0m\u001b[1;33m\u001b[0m\u001b[0m\n\u001b[0;32m     17\u001b[0m \u001b[1;33m\u001b[0m\u001b[0m\n",
      "\u001b[1;31mAttributeError\u001b[0m: 'function' object has no attribute 'quad'"
     ]
    },
    {
     "data": {
      "image/png": "[encoded data removed]",
      "text/plain": [
       "<Figure size 432x288 with 1 Axes>"
      ]
     },
     "metadata": {
      "needs_background": "light"
     },
     "output_type": "display_data"
    }
   ],
   "source": [
    "plt.scatter(xxT2, yyT2, marker=\"o\", color=\"r\")\n",
    "for i in range(n):\n",
    "     # lots of points for a smooth plot\n",
    "    xx = np.linspace(xxT2[i], xxT2[i+1], 1000)\n",
    "\n",
    "    p = d[i]*(xx-xxT2[i])**3 + c[i]*(xx-xxT2[i])**2 + b[i]*(xx-xxT2[i]) + yyT2[i]\n",
    "    plt.plot(xx, p,label=\"B(a)\")\n",
    "    plt.plot(xxT2, yyT2, \"ro\")\n",
    "\n",
    "xxx = np.linspace(xxT1[0], xxT1[-1], (xxT1[-1]-xxT1[0])*10)\n",
    "xxT4 = np.linspace(2, 20, 180)\n",
    "I = np.zeros(180)\n",
    "for ii, item in enumerate(xxT4):\n",
    "    fx =  lambda xT4: (np.exp(-xT4**(2/5))* (xT4**(2/5) + 2)/xT4**(5/3))\n",
    "    int = integrate.quad(fx, 2, xxT4[ii])\n",
    "    I[ii]=800-(600*int[0])\n",
    "\n",
    "plt.plot(xxT4, I, \"b\", label=\"Bhat(a)\")\n",
    "plt.plot(xxT1, yyT1, \"ks\")\n",
    "plt.plot(xxx, ptask1(xxx), \"b--\",label=\"C(a)\")\n",
    "plt.xlabel(\"Arsenic Standard (ppb)(a)\")\n",
    "plt.ylabel(\"Costs (£Million)\")\n",
    "plt.legend()"
   ]
  },
  {
   "cell_type": "code",
   "execution_count": null,
   "metadata": {},
   "outputs": [],
   "source": []
  }
 ],
 "metadata": {
  "kernelspec": {
   "display_name": "Python 3 (ipykernel)",
   "language": "python",
   "name": "python3"
  },
  "language_info": {
   "codemirror_mode": {
    "name": "ipython",
    "version": 3
   },
   "file_extension": ".py",
   "mimetype": "text/x-python",
   "name": "python",
   "nbconvert_exporter": "python",
   "pygments_lexer": "ipython3",
   "version": "3.9.13"
  }
 },
 "nbformat": 4,
 "nbformat_minor": 4
}
